{
 "cells": [
  {
   "cell_type": "code",
   "execution_count": 2,
   "metadata": {},
   "outputs": [],
   "source": [
    "from pyspark.sql import SparkSession"
   ]
  },
  {
   "cell_type": "code",
   "execution_count": 3,
   "metadata": {},
   "outputs": [
    {
     "name": "stderr",
     "output_type": "stream",
     "text": [
      "25/04/07 10:13:42 WARN Utils: Your hostname, edgar-Latitude-5480 resolves to a loopback address: 127.0.1.1; using 192.168.100.63 instead (on interface wlp1s0)\n",
      "25/04/07 10:13:42 WARN Utils: Set SPARK_LOCAL_IP if you need to bind to another address\n",
      "Setting default log level to \"WARN\".\n",
      "To adjust logging level use sc.setLogLevel(newLevel). For SparkR, use setLogLevel(newLevel).\n",
      "25/04/07 10:13:43 WARN NativeCodeLoader: Unable to load native-hadoop library for your platform... using builtin-java classes where applicable\n"
     ]
    }
   ],
   "source": [
    "spark = SparkSession.builder.appName('WEBLOGSANALYTICS').getOrCreate()"
   ]
  },
  {
   "cell_type": "code",
   "execution_count": 5,
   "metadata": {},
   "outputs": [
    {
     "name": "stderr",
     "output_type": "stream",
     "text": [
      "                                                                                \r"
     ]
    },
    {
     "data": {
      "text/plain": [
       "['192.168.1.213 - - [10/Feb/2025:11:58:04] \"GET /about.html HTTP/1.1\" 500 1518',\n",
       " '192.168.1.10 - - [10/Feb/2025:02:18:13] \"GET /index.html HTTP/1.1\" 404 4000',\n",
       " '192.168.1.213 - - [10/Feb/2025:15:05:20] \"GET /contact.html HTTP/1.1\" 200 3554',\n",
       " '192.168.1.118 - - [10/Feb/2025:12:08:34] \"GET /contact.html HTTP/1.1\" 500 2287',\n",
       " '192.168.1.34 - - [10/Feb/2025:23:50:36] \"GET /notfound.html HTTP/1.1\" 404 3789',\n",
       " '192.168.1.57 - - [10/Feb/2025:05:53:41] \"GET /index.html HTTP/1.1\" 200 981',\n",
       " '192.168.1.237 - - [10/Feb/2025:22:54:14] \"GET /dashboard.html HTTP/1.1\" 500 1244',\n",
       " '192.168.1.213 - - [10/Feb/2025:15:32:42] \"GET /dashboard.html HTTP/1.1\" 500 3131',\n",
       " '192.168.1.243 - - [10/Feb/2025:01:25:32] \"GET /notfound.html HTTP/1.1\" 404 665',\n",
       " '192.168.1.147 - - [10/Feb/2025:19:29:25] \"GET /index.html HTTP/1.1\" 404 827']"
      ]
     },
     "execution_count": 5,
     "metadata": {},
     "output_type": "execute_result"
    }
   ],
   "source": [
    "log_file = spark.sparkContext.textFile(\"../data/server_logs.txt\")\n",
    "log_file.take(10)"
   ]
  },
  {
   "cell_type": "code",
   "execution_count": null,
   "metadata": {},
   "outputs": [
    {
     "data": {
      "text/plain": [
       "['/about.html',\n",
       " '/index.html',\n",
       " '/contact.html',\n",
       " '/contact.html',\n",
       " '/notfound.html',\n",
       " '/index.html',\n",
       " '/dashboard.html',\n",
       " '/dashboard.html',\n",
       " '/notfound.html',\n",
       " '/index.html']"
      ]
     },
     "execution_count": 20,
     "metadata": {},
     "output_type": "execute_result"
    }
   ],
   "source": [
    "# extraer las url visitadas\n",
    "visited_url = log_file.map(lambda x: x.split()[5])\n",
    "visited_url.take(10)"
   ]
  },
  {
   "cell_type": "code",
   "execution_count": 25,
   "metadata": {},
   "outputs": [
    {
     "name": "stderr",
     "output_type": "stream",
     "text": [
      "                                                                                \r"
     ]
    },
    {
     "data": {
      "text/plain": [
       "[('/about.html', 166090),\n",
       " ('/index.html', 166563),\n",
       " ('/services.html', 166535),\n",
       " ('/dashboard.html', 167539),\n",
       " ('/contact.html', 166988)]"
      ]
     },
     "execution_count": 25,
     "metadata": {},
     "output_type": "execute_result"
    }
   ],
   "source": [
    "# contar accesos por url\n",
    "count_access_url = visited_url.map(lambda x: (x, 1)).reduceByKey(lambda x, y: x + y)\n",
    "count_access_url.take(5)"
   ]
  },
  {
   "cell_type": "code",
   "execution_count": null,
   "metadata": {},
   "outputs": [],
   "source": []
  }
 ],
 "metadata": {
  "kernelspec": {
   "display_name": "devs",
   "language": "python",
   "name": "python3"
  },
  "language_info": {
   "codemirror_mode": {
    "name": "ipython",
    "version": 3
   },
   "file_extension": ".py",
   "mimetype": "text/x-python",
   "name": "python",
   "nbconvert_exporter": "python",
   "pygments_lexer": "ipython3",
   "version": "3.10.16"
  }
 },
 "nbformat": 4,
 "nbformat_minor": 2
}
