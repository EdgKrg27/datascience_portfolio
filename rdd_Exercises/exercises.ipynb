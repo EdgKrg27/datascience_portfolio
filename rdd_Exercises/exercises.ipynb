{
 "cells": [
  {
   "cell_type": "code",
   "execution_count": 1,
   "metadata": {},
   "outputs": [
    {
     "name": "stderr",
     "output_type": "stream",
     "text": [
      "25/02/27 20:05:05 WARN Utils: Your hostname, edgar-Latitude-5480 resolves to a loopback address: 127.0.1.1; using 192.168.100.63 instead (on interface wlp1s0)\n",
      "25/02/27 20:05:05 WARN Utils: Set SPARK_LOCAL_IP if you need to bind to another address\n",
      "Setting default log level to \"WARN\".\n",
      "To adjust logging level use sc.setLogLevel(newLevel). For SparkR, use setLogLevel(newLevel).\n",
      "25/02/27 20:05:06 WARN NativeCodeLoader: Unable to load native-hadoop library for your platform... using builtin-java classes where applicable\n"
     ]
    }
   ],
   "source": [
    "from pyspark import SparkContext\n",
    "\n",
    "sc = SparkContext(\"local\", \"RDD Exercises\")"
   ]
  },
  {
   "cell_type": "markdown",
   "metadata": {},
   "source": [
    "1. Crea un RDD:\n",
    "\n",
    "- Crea un RDD a partir de una lista de números de 1 al 100\n",
    "- Aplica una transformación para filtrar los números pares\n",
    "- Aplica otra transformación para elevar al cuadrado cada número\n",
    "- Muestra los primeros 10 elementos del RDD resultante\n"
   ]
  },
  {
   "cell_type": "code",
   "execution_count": null,
   "metadata": {},
   "outputs": [
    {
     "data": {
      "text/plain": [
       "[4, 16, 36, 64, 100, 144, 196, 256, 324, 400]"
      ]
     },
     "execution_count": 8,
     "metadata": {},
     "output_type": "execute_result"
    }
   ],
   "source": [
    "rdd = sc.parallelize(range(1, 101))\n",
    "rdd_cuadrado = rdd.filter(lambda x: x % 2 == 0).map(lambda x: x**2)\n",
    "rdd_cuadrado.take(10)"
   ]
  },
  {
   "cell_type": "markdown",
   "metadata": {},
   "source": [
    "2. Transformaciones y acciones\n",
    "- Crear un RDD a partir de una lista de palabras\n",
    "- Aplica una transformación para convertir todas las palabras a minúsculas\n",
    "- Aplica otra transformación para filtrar las palabras que tienen más de 5 letras\n",
    "- Usa una acción para contar cuántas palabras cumlen con la condición anterior"
   ]
  },
  {
   "cell_type": "code",
   "execution_count": 9,
   "metadata": {},
   "outputs": [
    {
     "name": "stdout",
     "output_type": "stream",
     "text": [
      "37\n"
     ]
    }
   ],
   "source": [
    "words = ['unwomanized', 'concessionaire', 'interventive', 'persentiscency', 'paleolithic', 'radiotherapeutist', 'enigmaticalness', 'diaulos', 'osteocystoma', 'presymptomatic', 'twineless', 'inofficiously', 'spunk', 'taproom', 'stipulable', 'decapitable', 'sialosyrinx', 'nonpsychological', 'deadheadism', 'peridesm', 'fluoresce', 'gall', 'ultramicrometer', 'antifreezing', 'timbang', 'armangite', 'antiflatulent', 'faint', 'neonatal', 'unreportable', 'enouncement', 'dataria', 'caddish', 'uncountermandable', 'pictographically', 'burroweed', 'immit', 'Koeri', 'waistcoathole', 'surtout', 'suckener', 'functionalist', 'bareness', 'cocreatorship', 'ret', 'synonymousness', 'undiapered', 'athrocytosis', 'whinnel', 'bittering']\n",
    "rdd_words = sc.parallelize(words)\n",
    "rdd = rdd_words.filter(lambda x: len(x) > 7).map(lambda x: x.upper())\n",
    "print(rdd.count())"
   ]
  },
  {
   "cell_type": "markdown",
   "metadata": {},
   "source": [
    "3. Operaciones de reducción\n",
    "- Crea un RDD a partir de una lsita de números del 1 al 100\n",
    "- Usa una acción para calcuar la suma de todos los números\n",
    "- Usa otra acción para calcular el producto de todos los números"
   ]
  },
  {
   "cell_type": "code",
   "execution_count": 8,
   "metadata": {},
   "outputs": [
    {
     "name": "stdout",
     "output_type": "stream",
     "text": [
      "suma: 5050\n",
      "multiplicación: 0\n"
     ]
    }
   ],
   "source": [
    "rdd_numbers = sc.parallelize(range(0, 101))\n",
    "rdd_add = rdd_numbers.reduce(lambda x, y: x + y)\n",
    "rdd_multiplication = rdd_numbers.reduce(lambda x, y: x * y)\n",
    "print(f\"suma: {rdd_add}\")\n",
    "print(f\"multiplicación: {rdd_multiplication}\")"
   ]
  },
  {
   "cell_type": "markdown",
   "metadata": {},
   "source": [
    "4. Operaciones de agregación\n",
    "- Crea un RDD a partir de una lista de tuplas, donde cada tuupla contiene una categoría y un valor numérico\n",
    "- Usa una transformación para agrupar los valores por categoría\n",
    "- Usa una acción para calcular el promedio de los valores por categoría"
   ]
  },
  {
   "cell_type": "markdown",
   "metadata": {},
   "source": []
  }
 ],
 "metadata": {
  "kernelspec": {
   "display_name": "devs",
   "language": "python",
   "name": "python3"
  },
  "language_info": {
   "codemirror_mode": {
    "name": "ipython",
    "version": 3
   },
   "file_extension": ".py",
   "mimetype": "text/x-python",
   "name": "python",
   "nbconvert_exporter": "python",
   "pygments_lexer": "ipython3",
   "version": "3.10.16"
  }
 },
 "nbformat": 4,
 "nbformat_minor": 4
}
