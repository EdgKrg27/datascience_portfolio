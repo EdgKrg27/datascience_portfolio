{
 "cells": [
  {
   "cell_type": "code",
   "execution_count": 1,
   "id": "5776ba5f",
   "metadata": {},
   "outputs": [],
   "source": [
    "from pyspark.sql import SparkSession"
   ]
  },
  {
   "cell_type": "code",
   "execution_count": 2,
   "id": "1505e8c9",
   "metadata": {},
   "outputs": [
    {
     "name": "stderr",
     "output_type": "stream",
     "text": [
      "25/04/12 21:34:09 WARN Utils: Your hostname, edgar-Latitude-5480 resolves to a loopback address: 127.0.1.1; using 192.168.100.63 instead (on interface wlp1s0)\n",
      "25/04/12 21:34:09 WARN Utils: Set SPARK_LOCAL_IP if you need to bind to another address\n",
      "Setting default log level to \"WARN\".\n",
      "To adjust logging level use sc.setLogLevel(newLevel). For SparkR, use setLogLevel(newLevel).\n",
      "25/04/12 21:34:10 WARN NativeCodeLoader: Unable to load native-hadoop library for your platform... using builtin-java classes where applicable\n",
      "25/04/12 21:34:11 WARN Utils: Service 'SparkUI' could not bind on port 4040. Attempting port 4041.\n"
     ]
    }
   ],
   "source": [
    "spark = SparkSession.builder.appName('PRODUCTS REVIEW').getOrCreate()"
   ]
  },
  {
   "cell_type": "code",
   "execution_count": 5,
   "id": "589c54e2",
   "metadata": {},
   "outputs": [
    {
     "name": "stderr",
     "output_type": "stream",
     "text": [
      "                                                                                \r"
     ]
    },
    {
     "data": {
      "text/plain": [
       "['{\"overall\": 5.0, \"verified\": true, \"reviewTime\": \"10 17, 2015\", \"reviewerID\": \"A1HP7NVNPFMA4N\", \"asin\": \"0700026657\", \"reviewerName\": \"Ambrosia075\", \"reviewText\": \"This game is a bit hard to get the hang of, but when you do it\\'s great.\", \"summary\": \"but when you do it\\'s great.\", \"unixReviewTime\": 1445040000}',\n",
       " '{\"overall\": 4.0, \"verified\": false, \"reviewTime\": \"07 27, 2015\", \"reviewerID\": \"A1JGAP0185YJI6\", \"asin\": \"0700026657\", \"reviewerName\": \"travis\", \"reviewText\": \"I played it a while but it was alright. The steam was a bit of trouble. The more they move these game to steam the more of a hard time I have activating and playing a game. But in spite of that it was fun, I liked it. Now I am looking forward to anno 2205 I really want to play my way to the moon.\", \"summary\": \"But in spite of that it was fun, I liked it\", \"unixReviewTime\": 1437955200}',\n",
       " '{\"overall\": 3.0, \"verified\": true, \"reviewTime\": \"02 23, 2015\", \"reviewerID\": \"A1YJWEXHQBWK2B\", \"asin\": \"0700026657\", \"reviewerName\": \"Vincent G. Mezera\", \"reviewText\": \"ok game.\", \"summary\": \"Three Stars\", \"unixReviewTime\": 1424649600}',\n",
       " '{\"overall\": 2.0, \"verified\": true, \"reviewTime\": \"02 20, 2015\", \"reviewerID\": \"A2204E1TH211HT\", \"asin\": \"0700026657\", \"reviewerName\": \"Grandma KR\", \"reviewText\": \"found the game a bit too complicated, not what I expected after having played 1602, 1503, and 1701\", \"summary\": \"Two Stars\", \"unixReviewTime\": 1424390400}',\n",
       " '{\"overall\": 5.0, \"verified\": true, \"reviewTime\": \"12 25, 2014\", \"reviewerID\": \"A2RF5B5H74JLPE\", \"asin\": \"0700026657\", \"reviewerName\": \"jon\", \"reviewText\": \"great game, I love it and have played it since its arrived\", \"summary\": \"love this game\", \"unixReviewTime\": 1419465600}',\n",
       " '{\"overall\": 4.0, \"verified\": true, \"reviewTime\": \"11 13, 2014\", \"reviewerID\": \"A11V6ZJ2FVQY1D\", \"asin\": \"0700026657\", \"reviewerName\": \"IBRAHIM ALBADI\", \"reviewText\": \"i liked a lot some time that i haven\\'t play a wonderfull game very simply and funny game verry good game.\", \"summary\": \"Anno 2070\", \"unixReviewTime\": 1415836800}',\n",
       " '{\"overall\": 1.0, \"verified\": false, \"reviewTime\": \"08 2, 2014\", \"reviewerID\": \"A1KXJ1ELZIU05C\", \"asin\": \"0700026657\", \"reviewerName\": \"Creation27\", \"reviewText\": \"I\\'m an avid gamer, but Anno 2070 is an INSULT to gaming.  It is so buggy and half-finished that the first campaign doesn\\'t even work properly and the DRM is INCREDIBLY frustrating to deal with.\\\\n\\\\nOnce you manage to work your way past the massive amounts of bugs and get through the DRM, HOURS later you finally figure out that the game has no real tutorial, so you stuck just clicking around randomly.\\\\n\\\\nSad, sad, sad, example of a game that could have been great but FTW.\", \"summary\": \"Avoid This Game - Filled with Bugs\", \"unixReviewTime\": 1406937600}',\n",
       " '{\"overall\": 5.0, \"verified\": true, \"reviewTime\": \"03 3, 2014\", \"reviewerID\": \"A1WK5I4874S3O2\", \"asin\": \"0700026657\", \"reviewerName\": \"WhiteSkull\", \"reviewText\": \"I bought this game thinking it would be pretty cool and that i might play it for a  week or two and be done.  Boy was I wrong! From the moment I finally got the gamed Fired up (the other commentors on this are right, it takes forever and u are forced to create an account) I watched as it booted up I could tell right off the bat that ALOT of thought went into making this game. If you have ever played Sim city, then this game is a must try as you will easily navigate thru it and its multi layers. I have been playing htis now for a month straight, and I am STILL discovering layers of complexity in the game. There are a few things in the game that could used tweaked, but all in all this is a 5 star game.\", \"summary\": \"A very good game balance of skill with depth of choices\", \"unixReviewTime\": 1393804800}',\n",
       " '{\"overall\": 5.0, \"verified\": true, \"reviewTime\": \"02 21, 2014\", \"reviewerID\": \"AV969NA4CBP10\", \"asin\": \"0700026657\", \"reviewerName\": \"Travis B. Moore\", \"reviewText\": \"I have played the old anno 1701 AND 1503.  this game looks great but is more complex than the previous versions of the game. I found a lot of things lacking such as the sources of power and an inability to store energy with batteries or regenertive fuel cells as buildings in the game need power. Trade is about the same. My main beef with this it requires an internet connection. Other than that it has wonderful artistry and graphics. It is the same as anno 1701 but set in a future world where global warmming as flood the land and resource scarcity has sent human kind to look to the deep ocean for valuable minerals. I recoment the deep ocean expansion or complete if you get this. I found the ai instructor a little corny but other than that the game has some real polish. I wrote my 2 cents worth on suggestions on anno 2070 wiki and you can read 3 pages on that for game ideas I had.\", \"summary\": \"Anno 2070 more like anno 1701\", \"unixReviewTime\": 1392940800}',\n",
       " '{\"overall\": 4.0, \"verified\": true, \"reviewTime\": \"06 27, 2013\", \"reviewerID\": \"A1EO9BFUHTGWKZ\", \"asin\": \"0700026657\", \"reviewerName\": \"johnnyz3\", \"reviewText\": \"I liked it and had fun with it, played for a while and got my money\\'s worth.  You can certainly go further than I did but I got frustrated with the fact that here we are in this new start and still taking from the earth rather than living with it. Better than simcity in that respect and maybe the best we could hope for.\", \"summary\": \"Pretty fun\", \"unixReviewTime\": 1372291200}']"
      ]
     },
     "execution_count": 5,
     "metadata": {},
     "output_type": "execute_result"
    }
   ],
   "source": [
    "rdd_file = spark.sparkContext.textFile(\"../data/input/Video_Games_5.json\")\n",
    "rdd_file.take(10)"
   ]
  },
  {
   "cell_type": "code",
   "execution_count": 14,
   "id": "6dff3b12",
   "metadata": {},
   "outputs": [
    {
     "data": {
      "text/plain": [
       "['\"This']"
      ]
     },
     "execution_count": 14,
     "metadata": {},
     "output_type": "execute_result"
    }
   ],
   "source": [
    "rdd_filter = rdd_file.map(lambda x:x.split()[15])\n",
    "rdd_filter.take(1)"
   ]
  },
  {
   "cell_type": "code",
   "execution_count": null,
   "id": "10c65fea",
   "metadata": {},
   "outputs": [],
   "source": []
  }
 ],
 "metadata": {
  "kernelspec": {
   "display_name": "devs",
   "language": "python",
   "name": "python3"
  },
  "language_info": {
   "codemirror_mode": {
    "name": "ipython",
    "version": 3
   },
   "file_extension": ".py",
   "mimetype": "text/x-python",
   "name": "python",
   "nbconvert_exporter": "python",
   "pygments_lexer": "ipython3",
   "version": "3.10.16"
  }
 },
 "nbformat": 4,
 "nbformat_minor": 5
}
