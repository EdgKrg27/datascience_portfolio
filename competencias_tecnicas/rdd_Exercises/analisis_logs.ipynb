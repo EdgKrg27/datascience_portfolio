{
 "cells": [
  {
   "cell_type": "code",
   "execution_count": null,
   "metadata": {},
   "outputs": [],
   "source": [
    "from pyspark.sql import SparkSession"
   ]
  },
  {
   "cell_type": "code",
   "execution_count": null,
   "metadata": {},
   "outputs": [],
   "source": [
    "spark = SparkSession.builder.appName('WEBLOGSANALYTICS').getOrCreate()"
   ]
  },
  {
   "cell_type": "code",
   "execution_count": null,
   "metadata": {},
   "outputs": [],
   "source": [
    "log_file = spark.sparkContext.textFile(\"../data/input/server_logs.txt\")\n",
    "log_file.take(10)"
   ]
  },
  {
   "cell_type": "code",
   "execution_count": null,
   "metadata": {},
   "outputs": [],
   "source": [
    "# extraer las url visitadas\n",
    "visited_url = log_file.map(lambda x: x.split()[5])\n",
    "visited_url.take(10)"
   ]
  },
  {
   "cell_type": "code",
   "execution_count": null,
   "metadata": {},
   "outputs": [],
   "source": [
    "# contar accesos por url\n",
    "count_access_url = visited_url.map(lambda x: (x, 1)).reduceByKey(lambda x, y: x + y)\n",
    "count_access_url.take(5)"
   ]
  },
  {
   "cell_type": "code",
   "execution_count": null,
   "metadata": {},
   "outputs": [],
   "source": [
    "# filtrar errores 404\n",
    "df_error = log_file.filter(lambda x: \" 404 \" in x)\n",
    "df_error.take(5)"
   ]
  },
  {
   "cell_type": "code",
   "execution_count": null,
   "metadata": {},
   "outputs": [],
   "source": [
    "# obtener las IP más frecuentes\n",
    "rdd_ip = log_file.map(lambda x: (x.split()[0], 1)).reduceByKey(lambda x, y: x + y)\n",
    "top_ips = rdd_ip.sortBy(lambda x: x[1], ascending=False)\n",
    "top_ips.take(20)"
   ]
  },
  {
   "cell_type": "code",
   "execution_count": null,
   "metadata": {},
   "outputs": [],
   "source": [
    "count_access_url.saveAsTextFile(\"../data/output/url_counts\")\n",
    "df_error.saveAsTextFile(\"../data/output/errors_404\")\n",
    "top_ips.saveAsTextFile(\"../data/output/top_ips\")\n",
    "print(\"Terminado\")"
   ]
  },
  {
   "cell_type": "code",
   "execution_count": null,
   "metadata": {},
   "outputs": [],
   "source": []
  }
 ],
 "metadata": {
  "kernelspec": {
   "display_name": "devs",
   "language": "python",
   "name": "python3"
  },
  "language_info": {
   "codemirror_mode": {
    "name": "ipython",
    "version": 3
   },
   "file_extension": ".py",
   "mimetype": "text/x-python",
   "name": "python",
   "nbconvert_exporter": "python",
   "pygments_lexer": "ipython3",
   "version": "3.10.16"
  }
 },
 "nbformat": 4,
 "nbformat_minor": 2
}
